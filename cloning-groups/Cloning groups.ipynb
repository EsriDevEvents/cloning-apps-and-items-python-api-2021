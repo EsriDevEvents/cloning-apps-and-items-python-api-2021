{
 "cells": [
  {
   "cell_type": "code",
   "execution_count": 1,
   "metadata": {
    "scrolled": true
   },
   "outputs": [],
   "source": [
    "from arcgis.gis import GIS"
   ]
  },
  {
   "cell_type": "markdown",
   "metadata": {},
   "source": [
    "# Exporting group"
   ]
  },
  {
   "cell_type": "code",
   "execution_count": 2,
   "metadata": {
    "scrolled": false
   },
   "outputs": [
    {
     "name": "stdout",
     "output_type": "stream",
     "text": [
      "Getting group from source...\n",
      "Building epk file...\n",
      "Downloading export package...\n",
      "Export operation finished:\n",
      "/var/folders/2g/czb3vz1s5lv9l5gg5stm_9780000gq/T/SourcegroupDevSummit20212021212104615.epk\n"
     ]
    }
   ],
   "source": [
    "# Setting up source profile ('source-environment') => Credentials of mormont.esri.es\n",
    "# GIS(url=\"...\", username='...', password='...', profile='source-environment')\n",
    "source = GIS(profile='source-environment')\n",
    "print(\"Getting group from source...\")\n",
    "dev_group = source.groups.search(\"Source group - DevSummit 2021\")[0]\n",
    "print(\"Building epk file...\")\n",
    "epk_file = dev_group.migration.create(future=False)\n",
    "print(\"Downloading export package...\")\n",
    "fp = epk_file.download()\n",
    "print(\"Export operation finished:\")\n",
    "print(fp)"
   ]
  },
  {
   "cell_type": "markdown",
   "metadata": {},
   "source": [
    "# Importing epk "
   ]
  },
  {
   "cell_type": "code",
   "execution_count": 3,
   "metadata": {},
   "outputs": [
    {
     "name": "stdout",
     "output_type": "stream",
     "text": [
      "Adding export package to Target Portal...\n",
      "Creating target group...\n",
      "Sharing Export Package (.epk) with the target group...\n",
      "Executing import operation...\n",
      "Import operation finished\n"
     ]
    }
   ],
   "source": [
    "# Setting up source profile ('source-environment') => Credentials of formacionutility.esri.es\n",
    "# GIS(url=\"...\", username='...', password='...', profile='target-environment')\n",
    "target = GIS(profile='target-environment')\n",
    "print(\"Adding export package to Target Portal...\")\n",
    "pitem = target.content.add({'title': \"DEVtoTEST Migration Package\", \"tags\": ['Migration', 'TEST', 'Cloning'], 'type': 'Export Package'}, data = fp)\n",
    "print(\"Creating target group...\")\n",
    "new_group = target.groups.create(title=\"DevSummit 2021 backup group\", tags=\"Migration,TEST,Cloning\")\n",
    "print(\"Sharing Export Package (.epk) with the target group...\")\n",
    "pitem.share(groups = [new_group])\n",
    "print(\"Executing import operation...\")\n",
    "m = new_group.migration\n",
    "res = m.load(pitem)\n",
    "print(\"Import operation finished\")"
   ]
  },
  {
   "cell_type": "code",
   "execution_count": null,
   "metadata": {},
   "outputs": [],
   "source": []
  }
 ],
 "metadata": {
  "kernelspec": {
   "display_name": "Python 3",
   "language": "python",
   "name": "python3"
  },
  "language_info": {
   "codemirror_mode": {
    "name": "ipython",
    "version": 3
   },
   "file_extension": ".py",
   "mimetype": "text/x-python",
   "name": "python",
   "nbconvert_exporter": "python",
   "pygments_lexer": "ipython3",
   "version": "3.8.5"
  }
 },
 "nbformat": 4,
 "nbformat_minor": 4
}
